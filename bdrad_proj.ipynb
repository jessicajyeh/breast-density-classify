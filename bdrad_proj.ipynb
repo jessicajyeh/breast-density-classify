{
 "cells": [
  {
   "cell_type": "markdown",
   "metadata": {},
   "source": [
    "# BDRAD Computer Vision Mini Project\n",
    "#### Jessica Yeh, 2/20/2019"
   ]
  },
  {
   "cell_type": "markdown",
   "metadata": {},
   "source": [
    "## Part 1: Image loading, resizing, reformatting"
   ]
  },
  {
   "cell_type": "code",
   "execution_count": 277,
   "metadata": {
    "collapsed": false
   },
   "outputs": [],
   "source": [
    "%matplotlib inline\n",
    "import tensorflow as tf\n",
    "import os\n",
    "import pydicom\n",
    "import numpy as np\n",
    "import csv\n",
    "import matplotlib.pyplot as plt\n",
    "from pydicom.data import get_testdata_files\n",
    "from skimage.transform import resize\n",
    "from PIL import Image\n",
    "from tensorflow import keras"
   ]
  },
  {
   "cell_type": "code",
   "execution_count": 283,
   "metadata": {
    "collapsed": true
   },
   "outputs": [],
   "source": [
    "def read_img(img_path, img_shape):\n",
    "    \"\"\" Takes in a string image path and tuple image shape.\n",
    "    Resizes .dcm or .png images to the specified shape and \n",
    "    returns the resized image in ndarray form.\"\"\"\n",
    "    \n",
    "    img = []\n",
    "    name, extension = os.path.splitext(img_path)\n",
    "    if extension == '.png':\n",
    "        img = Image.open(img_path)\n",
    "        img = np.array(img) # converting to ndarray\n",
    "    elif extension == '.dcm':\n",
    "        ds = pydicom.dcmread(img_path)\n",
    "        img = ds.pixel_array\n",
    "        \n",
    "    img = resize(img, img_shape)\n",
    "    # uncomment below to not show resized image\n",
    "#     plt.imshow(img, cmap=plt.cm.bone)\n",
    "#     plt.show()\n",
    "    return img\n",
    "        "
   ]
  },
  {
   "cell_type": "code",
   "execution_count": 284,
   "metadata": {
    "collapsed": false
   },
   "outputs": [],
   "source": [
    "def get_density_ids(csv_name):\n",
    "    \"\"\"Takes in string name of csv.\n",
    "    Returns a dict that maps id of patient/img to density\"\"\"\n",
    "    \n",
    "    density_ids = {}\n",
    "    with open(csv_name, mode='r') as csv_file:\n",
    "        csv_reader = csv.DictReader(csv_file)\n",
    "        for row in csv_reader:\n",
    "            density = row[\"breast_density\"]\n",
    "            path = row[\"image file path\"]\n",
    "            patient_id = path.split('/')[0]\n",
    "            density_ids[patient_id] = int(density)\n",
    "    return density_ids\n",
    "\n",
    "density_ids = get_density_ids('mass_case_description_train_set.csv')\n",
    "density_ids_test = get_density_ids('mass_case_description_test_set.csv')\n"
   ]
  },
  {
   "cell_type": "code",
   "execution_count": 285,
   "metadata": {
    "collapsed": false
   },
   "outputs": [],
   "source": [
    "# Note: this part is hardcoded- it works for my data \n",
    "# based on how it is currently stored\n",
    "\n",
    "def get_all_paths(start_path, header_name):\n",
    "    \"\"\"Gets all paths for .dcm files nested within the start_path \n",
    "    directory. header_name specifies the names of directories \n",
    "    that it looks within\"\"\"\n",
    "    \n",
    "    files = [f for f in os.listdir(start_path) if f.startswith(header_name)]\n",
    "    img_paths = [] \n",
    "\n",
    "    for file in files: # Goes into dirs until reaching the .dcm file\n",
    "        curr_path = os.path.join(start_path, file)\n",
    "        while '.dcm' not in curr_path: \n",
    "            curr_dir = [f for f in os.listdir(curr_path) if '.DS' not in f][0]\n",
    "            curr_path = os.path.join(curr_path, curr_dir)\n",
    "        img_paths.append(curr_path)\n",
    "    return img_paths\n",
    "\n",
    "train_paths = get_all_paths('mammogram-train/CBIS-DDSM', 'Mass-Training')\n",
    "test_paths = get_all_paths('mammogram-test/CBIS-DDSM', 'Mass-Test')    "
   ]
  },
  {
   "cell_type": "code",
   "execution_count": 286,
   "metadata": {
    "collapsed": false
   },
   "outputs": [],
   "source": [
    "def combine_data(img_paths, density_ids):\n",
    "    \"\"\"Takes in a list of paths and a dict of density ids.\n",
    "    Returns 2 ndarrays, one of img ndarrays and another of integer \n",
    "    densities\"\"\"\n",
    "    \n",
    "    img_arr = np.array([np.empty([299,299])]) # init size of arr\n",
    "    density_arr = np.array([])\n",
    "    for path in img_paths:\n",
    "        new_img = read_img(path, (299, 299))\n",
    "        ds = pydicom.dcmread(path)\n",
    "        patient_id = ds.PatientID # Get patientID from dcm\n",
    "        density = density_ids[patient_id] # Use patientID to get density\n",
    "        \n",
    "        if density==1 or density==2:\n",
    "            density = 0\n",
    "        else:\n",
    "            density = 1\n",
    "\n",
    "        img_arr = np.concatenate((img_arr, np.array([new_img])))\n",
    "        density_arr = np.append(density_arr, density)\n",
    "\n",
    "    img_arr = img_arr[1:] # crop out the initialized empty arr\n",
    "    return img_arr, density_arr\n",
    " \n",
    "# Comment 2 lines below out if want to run on entire dataset\n",
    "# This is for the sake of testing and efficient\n",
    "\n",
    "# train_paths = train_paths[:10]\n",
    "# test_paths = test_paths[:5]\n",
    "\n",
    "# Getting final data\n",
    "train_img, train_density = combine_data(train_paths, density_ids)\n",
    "test_img, test_density = combine_data(test_paths, density_ids_test)\n"
   ]
  },
  {
   "cell_type": "code",
   "execution_count": 287,
   "metadata": {
    "collapsed": false
   },
   "outputs": [],
   "source": [
    "np.savez('data.npz', train_img=train_img, test_img=test_img, \n",
    "         train_density=train_density, test_density=test_density)"
   ]
  },
  {
   "cell_type": "code",
   "execution_count": 288,
   "metadata": {
    "collapsed": false
   },
   "outputs": [
    {
     "name": "stdout",
     "output_type": "stream",
     "text": [
      "(350, 299, 299)\n",
      "(350,)\n",
      "(361, 299, 299)\n",
      "(361,)\n"
     ]
    }
   ],
   "source": [
    "# Checking if the npz saved properly\n",
    "npzfile = np.load('data.npz')\n",
    "print(npzfile['train_img'].shape)\n",
    "print(npzfile['train_density'].shape)\n",
    "print(npzfile['test_img'].shape)\n",
    "print(npzfile['test_density'].shape)"
   ]
  },
  {
   "cell_type": "markdown",
   "metadata": {},
   "source": [
    "## My Resources\n",
    "https://realpython.com/python-csv/\n",
    "\n",
    "http://scikit-image.org/docs/dev/api/skimage.transform.html#skimage.transform.resize\n",
    "\n",
    "http://www.pythoninformer.com/python-libraries/numpy/numpy-and-images/\n",
    "\n",
    "https://docs.scipy.org/doc/numpy/reference/generated/numpy.savez.html#numpy.savez\n"
   ]
  },
  {
   "cell_type": "markdown",
   "metadata": {},
   "source": [
    "# Part 2\n",
    "6) Create a basic ResNet architecture to train on breast denseness (we will make this a 2D classification program with 2 classes). There are four breast densities: ABCD, but for this project, set Density A and B as \"not dense\". Density C and D as \"dense\" to make this a 2-class classification program. Please note that getting high  accuracy is not the goal at this point, but just writing a neural network algorithm that runs without error is fine.\n",
    "\n",
    "7) Test the algorithm on the testing set and provide your predictions on the test set (it need not be good at this point).\n",
    "\n",
    "8) Display 10 random mammogram images."
   ]
  },
  {
   "cell_type": "code",
   "execution_count": 326,
   "metadata": {
    "collapsed": false
   },
   "outputs": [
    {
     "name": "stdout",
     "output_type": "stream",
     "text": [
      "(350, 299, 299)\n",
      "(350,)\n",
      "(361, 299, 299)\n",
      "(361,)\n"
     ]
    }
   ],
   "source": [
    "npzfile = np.load('data.npz')\n",
    "print(npzfile['train_img'].shape)\n",
    "print(npzfile['train_density'].shape)\n",
    "print(npzfile['test_img'].shape)\n",
    "print(npzfile['test_density'].shape)\n",
    "\n",
    "train_img = npzfile['train_img']\n",
    "train_density = npzfile['train_density']\n",
    "test_img = npzfile['test_img']\n",
    "test_density = npzfile['test_density']"
   ]
  },
  {
   "cell_type": "code",
   "execution_count": 327,
   "metadata": {
    "collapsed": false
   },
   "outputs": [],
   "source": [
    "train_labels = keras.utils.to_categorical(train_density, 2)\n",
    "test_labels = keras.utils.to_categorical(test_density, 2)"
   ]
  },
  {
   "cell_type": "code",
   "execution_count": 328,
   "metadata": {
    "collapsed": false
   },
   "outputs": [],
   "source": [
    "model = keras.Sequential([\n",
    "    keras.layers.Flatten(input_shape=(299, 299)),\n",
    "    keras.layers.Dense(128, activation=tf.nn.relu),\n",
    "    keras.layers.Dense(2, activation=tf.nn.softmax)\n",
    "])"
   ]
  },
  {
   "cell_type": "code",
   "execution_count": 329,
   "metadata": {
    "collapsed": true
   },
   "outputs": [],
   "source": [
    "model.compile(optimizer='adam', \n",
    "              loss='categorical_crossentropy',\n",
    "              metrics=['accuracy'])"
   ]
  },
  {
   "cell_type": "code",
   "execution_count": 330,
   "metadata": {
    "collapsed": false
   },
   "outputs": [
    {
     "name": "stdout",
     "output_type": "stream",
     "text": [
      "Epoch 1/5\n",
      "350/350 [==============================] - 9s 26ms/step - loss: 5.6503 - acc: 0.5914\n",
      "Epoch 2/5\n",
      "350/350 [==============================] - 2s 6ms/step - loss: 6.0328 - acc: 0.6257\n",
      "Epoch 3/5\n",
      "350/350 [==============================] - 2s 5ms/step - loss: 6.0328 - acc: 0.6257\n",
      "Epoch 4/5\n",
      "350/350 [==============================] - 2s 5ms/step - loss: 6.0328 - acc: 0.6257\n",
      "Epoch 5/5\n",
      "350/350 [==============================] - 2s 5ms/step - loss: 6.0328 - acc: 0.6257\n"
     ]
    },
    {
     "data": {
      "text/plain": [
       "<tensorflow.python.keras.callbacks.History at 0x1ded08a90>"
      ]
     },
     "execution_count": 330,
     "metadata": {},
     "output_type": "execute_result"
    }
   ],
   "source": [
    "model.fit(train_img, train_labels, batch_size=32, epochs=5)"
   ]
  },
  {
   "cell_type": "code",
   "execution_count": 331,
   "metadata": {
    "collapsed": false
   },
   "outputs": [
    {
     "name": "stdout",
     "output_type": "stream",
     "text": [
      "361/361 [==============================] - 3s 9ms/step\n",
      "Test accuracy: 0.581717452183985\n"
     ]
    }
   ],
   "source": [
    "test_loss, test_acc = model.evaluate(test_img, test_labels)\n",
    "\n",
    "\n",
    "print('Test accuracy:', test_acc)\n",
    "\n",
    "predictions = model.predict(test_img)"
   ]
  },
  {
   "cell_type": "markdown",
   "metadata": {},
   "source": [
    "# Part 3: Data Visualization\n",
    "Create confusion matrix, ROC curve, gallery of errors (confident corrects, non-confident cases) "
   ]
  },
  {
   "cell_type": "code",
   "execution_count": 332,
   "metadata": {
    "collapsed": false
   },
   "outputs": [
    {
     "name": "stdout",
     "output_type": "stream",
     "text": [
      "[[1 0]\n",
      " [1 0]\n",
      " [1 0]\n",
      " [1 0]\n",
      " [1 0]\n",
      " [1 0]\n",
      " [1 0]\n",
      " [1 0]\n",
      " [1 0]\n",
      " [1 0]\n",
      " [1 0]\n",
      " [1 0]\n",
      " [1 0]\n",
      " [1 0]\n",
      " [1 0]\n",
      " [1 0]\n",
      " [1 0]\n",
      " [1 0]\n",
      " [1 0]\n",
      " [1 0]\n",
      " [1 0]\n",
      " [1 0]\n",
      " [1 0]\n",
      " [1 0]\n",
      " [1 0]\n",
      " [1 0]\n",
      " [1 0]\n",
      " [1 0]\n",
      " [1 0]\n",
      " [1 0]\n",
      " [1 0]\n",
      " [1 0]\n",
      " [1 0]\n",
      " [1 0]\n",
      " [1 0]\n",
      " [1 0]\n",
      " [1 0]\n",
      " [1 0]\n",
      " [1 0]\n",
      " [1 0]\n",
      " [1 0]\n",
      " [1 0]\n",
      " [1 0]\n",
      " [1 0]\n",
      " [1 0]\n",
      " [1 0]\n",
      " [1 0]\n",
      " [1 0]\n",
      " [1 0]\n",
      " [1 0]\n",
      " [1 0]\n",
      " [1 0]\n",
      " [1 0]\n",
      " [1 0]\n",
      " [1 0]\n",
      " [1 0]\n",
      " [1 0]\n",
      " [1 0]\n",
      " [1 0]\n",
      " [1 0]\n",
      " [1 0]\n",
      " [1 0]\n",
      " [1 0]\n",
      " [1 0]\n",
      " [1 0]\n",
      " [1 0]\n",
      " [1 0]\n",
      " [1 0]\n",
      " [1 0]\n",
      " [1 0]\n",
      " [1 0]\n",
      " [1 0]\n",
      " [1 0]\n",
      " [1 0]\n",
      " [1 0]\n",
      " [1 0]\n",
      " [1 0]\n",
      " [1 0]\n",
      " [1 0]\n",
      " [1 0]\n",
      " [1 0]\n",
      " [1 0]\n",
      " [1 0]\n",
      " [1 0]\n",
      " [1 0]\n",
      " [1 0]\n",
      " [1 0]\n",
      " [1 0]\n",
      " [1 0]\n",
      " [1 0]\n",
      " [1 0]\n",
      " [1 0]\n",
      " [1 0]\n",
      " [1 0]\n",
      " [1 0]\n",
      " [1 0]\n",
      " [1 0]\n",
      " [1 0]\n",
      " [1 0]\n",
      " [1 0]\n",
      " [1 0]\n",
      " [1 0]\n",
      " [1 0]\n",
      " [1 0]\n",
      " [1 0]\n",
      " [1 0]\n",
      " [1 0]\n",
      " [1 0]\n",
      " [1 0]\n",
      " [1 0]\n",
      " [1 0]\n",
      " [1 0]\n",
      " [1 0]\n",
      " [1 0]\n",
      " [1 0]\n",
      " [1 0]\n",
      " [1 0]\n",
      " [1 0]\n",
      " [1 0]\n",
      " [1 0]\n",
      " [1 0]\n",
      " [1 0]\n",
      " [1 0]\n",
      " [1 0]\n",
      " [1 0]\n",
      " [1 0]\n",
      " [1 0]\n",
      " [1 0]\n",
      " [1 0]\n",
      " [1 0]\n",
      " [1 0]\n",
      " [1 0]\n",
      " [1 0]\n",
      " [1 0]\n",
      " [1 0]\n",
      " [1 0]\n",
      " [1 0]\n",
      " [1 0]\n",
      " [1 0]\n",
      " [1 0]\n",
      " [1 0]\n",
      " [1 0]\n",
      " [1 0]\n",
      " [1 0]\n",
      " [1 0]\n",
      " [1 0]\n",
      " [1 0]\n",
      " [1 0]\n",
      " [1 0]\n",
      " [1 0]\n",
      " [1 0]\n",
      " [1 0]\n",
      " [1 0]\n",
      " [1 0]\n",
      " [1 0]\n",
      " [1 0]\n",
      " [1 0]\n",
      " [1 0]\n",
      " [1 0]\n",
      " [1 0]\n",
      " [1 0]\n",
      " [1 0]\n",
      " [1 0]\n",
      " [1 0]\n",
      " [1 0]\n",
      " [1 0]\n",
      " [1 0]\n",
      " [1 0]\n",
      " [1 0]\n",
      " [1 0]\n",
      " [1 0]\n",
      " [1 0]\n",
      " [1 0]\n",
      " [1 0]\n",
      " [1 0]\n",
      " [1 0]\n",
      " [1 0]\n",
      " [1 0]\n",
      " [1 0]\n",
      " [1 0]\n",
      " [1 0]\n",
      " [1 0]\n",
      " [1 0]\n",
      " [1 0]\n",
      " [1 0]\n",
      " [1 0]\n",
      " [1 0]\n",
      " [1 0]\n",
      " [1 0]\n",
      " [1 0]\n",
      " [1 0]\n",
      " [1 0]\n",
      " [1 0]\n",
      " [1 0]\n",
      " [1 0]\n",
      " [1 0]\n",
      " [1 0]\n",
      " [1 0]\n",
      " [1 0]\n",
      " [1 0]\n",
      " [1 0]\n",
      " [1 0]\n",
      " [1 0]\n",
      " [1 0]\n",
      " [1 0]\n",
      " [1 0]\n",
      " [1 0]\n",
      " [1 0]\n",
      " [1 0]\n",
      " [1 0]\n",
      " [1 0]\n",
      " [1 0]\n",
      " [1 0]\n",
      " [1 0]\n",
      " [1 0]\n",
      " [1 0]\n",
      " [1 0]\n",
      " [1 0]\n",
      " [1 0]\n",
      " [1 0]\n",
      " [1 0]\n",
      " [1 0]\n",
      " [1 0]\n",
      " [1 0]\n",
      " [1 0]\n",
      " [1 0]\n",
      " [1 0]\n",
      " [1 0]\n",
      " [1 0]\n",
      " [1 0]\n",
      " [1 0]\n",
      " [1 0]\n",
      " [1 0]\n",
      " [1 0]\n",
      " [1 0]\n",
      " [1 0]\n",
      " [1 0]\n",
      " [1 0]\n",
      " [1 0]\n",
      " [1 0]\n",
      " [1 0]\n",
      " [1 0]\n",
      " [1 0]\n",
      " [1 0]\n",
      " [1 0]\n",
      " [1 0]\n",
      " [1 0]\n",
      " [1 0]\n",
      " [1 0]\n",
      " [1 0]\n",
      " [1 0]\n",
      " [1 0]\n",
      " [1 0]\n",
      " [1 0]\n",
      " [1 0]\n",
      " [1 0]\n",
      " [1 0]\n",
      " [1 0]\n",
      " [1 0]\n",
      " [1 0]\n",
      " [1 0]\n",
      " [1 0]\n",
      " [1 0]\n",
      " [1 0]\n",
      " [1 0]\n",
      " [1 0]\n",
      " [1 0]\n",
      " [1 0]\n",
      " [1 0]\n",
      " [1 0]\n",
      " [1 0]\n",
      " [1 0]\n",
      " [1 0]\n",
      " [1 0]\n",
      " [1 0]\n",
      " [1 0]\n",
      " [1 0]\n",
      " [1 0]\n",
      " [1 0]\n",
      " [1 0]\n",
      " [1 0]\n",
      " [1 0]\n",
      " [1 0]\n",
      " [1 0]\n",
      " [1 0]\n",
      " [1 0]\n",
      " [1 0]\n",
      " [1 0]\n",
      " [1 0]\n",
      " [1 0]\n",
      " [1 0]\n",
      " [1 0]\n",
      " [1 0]\n",
      " [1 0]\n",
      " [1 0]\n",
      " [1 0]\n",
      " [1 0]\n",
      " [1 0]\n",
      " [1 0]\n",
      " [1 0]\n",
      " [1 0]\n",
      " [1 0]\n",
      " [1 0]\n",
      " [1 0]\n",
      " [1 0]\n",
      " [1 0]\n",
      " [1 0]\n",
      " [1 0]\n",
      " [1 0]\n",
      " [1 0]\n",
      " [1 0]\n",
      " [1 0]\n",
      " [1 0]\n",
      " [1 0]\n",
      " [1 0]\n",
      " [1 0]\n",
      " [1 0]\n",
      " [1 0]\n",
      " [1 0]\n",
      " [1 0]\n",
      " [1 0]\n",
      " [1 0]\n",
      " [1 0]\n",
      " [1 0]\n",
      " [1 0]\n",
      " [1 0]\n",
      " [1 0]\n",
      " [1 0]\n",
      " [1 0]\n",
      " [1 0]\n",
      " [1 0]\n",
      " [1 0]\n",
      " [1 0]\n",
      " [1 0]\n",
      " [1 0]\n",
      " [1 0]\n",
      " [1 0]\n",
      " [1 0]\n",
      " [1 0]\n",
      " [1 0]\n",
      " [1 0]\n",
      " [1 0]\n",
      " [1 0]\n",
      " [1 0]\n",
      " [1 0]\n",
      " [1 0]\n",
      " [1 0]\n",
      " [1 0]\n",
      " [1 0]\n",
      " [1 0]\n",
      " [1 0]\n",
      " [1 0]\n",
      " [1 0]\n",
      " [1 0]\n",
      " [1 0]\n",
      " [1 0]\n",
      " [1 0]\n",
      " [1 0]\n",
      " [1 0]\n",
      " [1 0]\n",
      " [1 0]]\n",
      "[0 0 0 0 0 0 0 0 0 0 0 0 0 0 0 0 0 0 0 0 0 0 0 0 0 0 0 0 0 0 0 0 0 0 0 0 0\n",
      " 0 0 0 0 0 0 0 0 0 0 0 0 0 0 0 0 0 0 0 0 0 0 0 0 0 0 0 0 0 0 0 0 0 0 0 0 0\n",
      " 0 0 0 0 0 0 0 0 0 0 0 0 0 0 0 0 0 0 0 0 0 0 0 0 0 0 0 0 0 0 0 0 0 0 0 0 0\n",
      " 0 0 0 0 0 0 0 0 0 0 0 0 0 0 0 0 0 0 0 0 0 0 0 0 0 0 0 0 0 0 0 0 0 0 0 0 0\n",
      " 0 0 0 0 0 0 0 0 0 0 0 0 0 0 0 0 0 0 0 0 0 0 0 0 0 0 0 0 0 0 0 0 0 0 0 0 0\n",
      " 0 0 0 0 0 0 0 0 0 0 0 0 0 0 0 0 0 0 0 0 0 0 0 0 0 0 0 0 0 0 0 0 0 0 0 0 0\n",
      " 0 0 0 0 0 0 0 0 0 0 0 0 0 0 0 0 0 0 0 0 0 0 0 0 0 0 0 0 0 0 0 0 0 0 0 0 0\n",
      " 0 0 0 0 0 0 0 0 0 0 0 0 0 0 0 0 0 0 0 0 0 0 0 0 0 0 0 0 0 0 0 0 0 0 0 0 0\n",
      " 0 0 0 0 0 0 0 0 0 0 0 0 0 0 0 0 0 0 0 0 0 0 0 0 0 0 0 0 0 0 0 0 0 0 0 0 0\n",
      " 0 0 0 0 0 0 0 0 0 0 0 0 0 0 0 0 0 0 0 0 0 0 0 0 0 0 0 0]\n"
     ]
    }
   ],
   "source": [
    "import sklearn\n",
    "\n",
    "print(predictions.astype(int))\n",
    "# print(predictions[:,1])\n",
    "flat_predictions = predictions[:,1].astype(int)\n",
    "\n",
    "print(flat_predictions)\n",
    "\n",
    "confusion_matrix = sklearn.metrics.confusion_matrix(flat_predictions, test_density)\n",
    "# confusion_matrix = sklearn.metrics.confusion_matrix(predictions, test_labels)"
   ]
  },
  {
   "cell_type": "code",
   "execution_count": 333,
   "metadata": {
    "collapsed": false
   },
   "outputs": [
    {
     "data": {
      "image/png": "[encoded data removed]",
      "text/plain": [
       "<Figure size 600x400 with 2 Axes>"
      ]
     },
     "metadata": {},
     "output_type": "display_data"
    }
   ],
   "source": [
    "plt.imshow(confusion_matrix)\n",
    "plt.title(\"Confusion Matrix\")\n",
    "plt.xlabel(\"Predicted Label\")\n",
    "plt.ylabel(\"True Label\")\n",
    "locs, labels = plt.xticks()\n",
    "plt.xticks([0,1], [\"Not Dense\", \"Dense\"]) \n",
    "plt.yticks([0,1], [\"Not Dense\", \"Dense\"]) \n",
    "\n",
    "\n",
    "plt.text(0, 0, confusion_matrix[0][0], ha=\"center\", va=\"center\", color=\"b\")\n",
    "plt.text(0, 1, confusion_matrix[0][1], ha=\"center\", va=\"center\", color=\"b\")\n",
    "plt.text(1, 0, confusion_matrix[1][0], ha=\"center\", va=\"center\", color=\"w\")\n",
    "plt.text(1, 1, confusion_matrix[1][1], ha=\"center\", va=\"center\", color=\"w\")\n",
    "        \n",
    "plt.colorbar()\n",
    "plt.show()\n"
   ]
  },
  {
   "cell_type": "code",
   "execution_count": 334,
   "metadata": {
    "collapsed": false
   },
   "outputs": [
    {
     "ename": "NameError",
     "evalue": "name 'test_label' is not defined",
     "output_type": "error",
     "traceback": [
      "\u001b[0;31m---------------------------------------------------------------------------\u001b[0m",
      "\u001b[0;31mNameError\u001b[0m                                 Traceback (most recent call last)",
      "\u001b[0;32m<ipython-input-334-483d1b3f3b0b>\u001b[0m in \u001b[0;36m<module>\u001b[0;34m()\u001b[0m\n\u001b[0;32m----> 1\u001b[0;31m \u001b[0msklearn\u001b[0m\u001b[0;34m.\u001b[0m\u001b[0mmetrics\u001b[0m\u001b[0;34m.\u001b[0m\u001b[0mroc_curve\u001b[0m\u001b[0;34m(\u001b[0m\u001b[0mtest_label\u001b[0m\u001b[0;34m)\u001b[0m\u001b[0;34m\u001b[0m\u001b[0m\n\u001b[0m",
      "\u001b[0;31mNameError\u001b[0m: name 'test_label' is not defined"
     ]
    }
   ],
   "source": [
    "sklearn.metrics.roc_curve(test_label)"
   ]
  },
  {
   "cell_type": "code",
   "execution_count": null,
   "metadata": {
    "collapsed": true
   },
   "outputs": [],
   "source": []
  },
  {
   "cell_type": "code",
   "execution_count": null,
   "metadata": {
    "collapsed": true
   },
   "outputs": [],
   "source": []
  }
 ],
 "metadata": {
  "kernelspec": {
   "display_name": "Python [Root]",
   "language": "python",
   "name": "Python [Root]"
  },
  "language_info": {
   "codemirror_mode": {
    "name": "ipython",
    "version": 3
   },
   "file_extension": ".py",
   "mimetype": "text/x-python",
   "name": "python",
   "nbconvert_exporter": "python",
   "pygments_lexer": "ipython3",
   "version": "3.5.2"
  }
 },
 "nbformat": 4,
 "nbformat_minor": 0
}
